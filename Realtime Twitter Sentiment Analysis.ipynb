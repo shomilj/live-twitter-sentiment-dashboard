{
 "cells": [
  {
   "cell_type": "code",
   "execution_count": 5,
   "metadata": {},
   "outputs": [],
   "source": [
    "import firebase_admin\n",
    "from firebase_admin import firestore\n",
    "from firebase_admin import credentials\n",
    "import time\n",
    "from vaderSentiment.vaderSentiment import SentimentIntensityAnalyzer\n",
    "import tweepy, csv, time, re\n",
    "import numpy as np\n",
    "from IPython.display import clear_output\n",
    "import operator\n",
    "import pandas as pd\n",
    "import json\n",
    "\n",
    "# Firebase API Keys and Constants\n",
    "SERVICE_ACCOUNT_PATH = \"firebase_secrets.json\"\n",
    "EVENT_ID = 'dTUBW5yy1PZJouA45rsP'\n",
    "\n",
    "# Twitter API Keysand Constants\n",
    "keys = json.load(open('keys.json'))\n",
    "consumer_key = keys.get('consumer_key')\n",
    "consumer_secret = keys.get('consumer_secret')\n",
    "access_token = keys.get('access_token')\n",
    "access_token_secret = keys.get('access_token_secret')\n",
    "auth = tweepy.OAuthHandler(consumer_key, consumer_secret)\n",
    "auth.set_access_token(access_token, access_token_secret)\n",
    "api = tweepy.API(auth)\n",
    "analyser = SentimentIntensityAnalyzer()"
   ]
  },
  {
   "cell_type": "code",
   "execution_count": 6,
   "metadata": {},
   "outputs": [],
   "source": [
    "cred = credentials.Certificate(SERVICE_ACCOUNT_PATH)\n",
    "try:\n",
    "    firebase_admin.initialize_app(cred)\n",
    "except:\n",
    "    pass\n",
    "\n",
    "db = firestore.client()\n",
    "\n",
    "# Add a new doc in collection 'cities' with ID 'LA'\n",
    "def write_to_firebase(scores):\n",
    "    db.collection('events').document(EVENT_ID).collection('scores').document(str(int(time.time()))).set(scores)"
   ]
  },
  {
   "cell_type": "code",
   "execution_count": 7,
   "metadata": {},
   "outputs": [],
   "source": [
    "class Person:\n",
    "    \n",
    "    def __init__(self, key, name, keywords=None):\n",
    "        self.key = key\n",
    "        self.name = name\n",
    "        \n",
    "        if keywords == None:\n",
    "            self.keywords = [self.key, self.name]\n",
    "        else:\n",
    "            self.keywords = keywords\n",
    "            \n",
    "        self.score = 0.0\n",
    "        self.cumscore = 0.0"
   ]
  },
  {
   "cell_type": "code",
   "execution_count": 8,
   "metadata": {},
   "outputs": [
    {
     "data": {
      "text/plain": [
       "'Yang'"
      ]
     },
     "execution_count": 8,
     "metadata": {},
     "output_type": "execute_result"
    }
   ],
   "source": [
    "people = []\n",
    "people.append(Person(key='Bennet', name='Michael Bennet'))\n",
    "people.append(Person(key='Gillibrand', name='Kirsten Gillibrand'))\n",
    "people.append(Person(key='Castro', name='Julián Castro'))\n",
    "people.append(Person(key='Booker', name='Cory Booker'))\n",
    "people.append(Person(key='Biden', name='Joe Biden'))\n",
    "people.append(Person(key='Harris', name='Kamala Harris'))\n",
    "people.append(Person(key='Yang', name='Andrew Yang'))\n",
    "people.append(Person(key='Gabbard', name='Tulsi Gabbard'))\n",
    "people.append(Person(key='Inslee', name='Jay Inslee'))\n",
    "people.append(Person(key='Blasio', name='Bill de Blasio'))\n",
    "\n",
    "person_map = {}\n",
    "keyword_map = {}\n",
    "for p in people:\n",
    "    person_map[p.key] = p\n",
    "    for key in p.keywords:\n",
    "        keyword_map[key] = p.key\n",
    "keyword_map.pop('Yang')"
   ]
  },
  {
   "cell_type": "code",
   "execution_count": 9,
   "metadata": {},
   "outputs": [],
   "source": [
    "def get_scoreboard():\n",
    "    scores = {}\n",
    "    for person in people:\n",
    "        scores[person.key] = person.score\n",
    "    return scores\n",
    "\n",
    "def get_individual_scoreboard():\n",
    "    scores = {}\n",
    "    for person in people:\n",
    "        scores[person.key] = person.cumscore\n",
    "    return scores\n",
    "        \n",
    "def print_scoreboard(i):\n",
    "    clear_output()\n",
    "    x = get_individual_scoreboard()\n",
    "    print(\"Tweets processed: \" + str(i))\n",
    "    df = [[key, value] for key, value in x.items()]\n",
    "    board = pd.DataFrame(df, columns=['Candidate', 'Score']).sort_values(by=['Score'], ascending=False).reset_index()\n",
    "    print(board.loc[:, 'Candidate':])\n",
    "    \n",
    "    \n",
    "def reset_cum_scoreboard():\n",
    "    for person in people:\n",
    "        person.cumscore = 0\n",
    "        \n",
    "def reset_scoreboard():\n",
    "    for person in people:\n",
    "        person.cumscore += person.score\n",
    "        person.score = 0"
   ]
  },
  {
   "cell_type": "code",
   "execution_count": 10,
   "metadata": {},
   "outputs": [],
   "source": [
    "def remove_pattern(input_txt, pattern):\n",
    "    r = re.findall(pattern, input_txt)\n",
    "    for i in r: input_txt = re.sub(i, '', input_txt)        \n",
    "    return input_txt\n",
    "\n",
    "def clean(tweet):\n",
    "    patterns = [\"RT @[\\w]*:\", \"@[\\w]*\", \"https?://[A-Za-z0-9./]*\"]\n",
    "    for pattern in patterns:\n",
    "        tweet = remove_pattern(tweet, pattern)\n",
    "    tweet = re.sub('[^a-z A-Z#]', ' ', tweet)\n",
    "    return tweet"
   ]
  },
  {
   "cell_type": "code",
   "execution_count": 11,
   "metadata": {},
   "outputs": [],
   "source": [
    "i = 0\n",
    "def process(tweet):\n",
    "    global i\n",
    "    i += 1\n",
    "    \n",
    "    found = []\n",
    "    for keyword in keyword_map.keys():\n",
    "        if keyword.lower() in tweet.lower():\n",
    "            found.append(keyword_map[keyword])\n",
    "    if len(found) == 1:\n",
    "        person_map[found[0]].score = person_map[found[0]].score + calculate_score(tweet)\n",
    "        \n",
    "        \n",
    "    if i % 200 == 0:\n",
    "        print_scoreboard(i)\n",
    "        reset_scoreboard()\n",
    "    \n",
    "    if i % 10000 == 0:\n",
    "        reset_cum_scoreboard()\n",
    "    \n",
    "    if i % 500 == 0:\n",
    "        write_to_firebase(get_scoreboard())"
   ]
  },
  {
   "cell_type": "code",
   "execution_count": 12,
   "metadata": {},
   "outputs": [],
   "source": [
    "def calculate_score(tweet):\n",
    "    tweet = clean(tweet)\n",
    "    score = analyser.polarity_scores(tweet)['compound']\n",
    "    return score"
   ]
  },
  {
   "cell_type": "code",
   "execution_count": 13,
   "metadata": {},
   "outputs": [],
   "source": [
    "def twitter_stream_listener(file_name, filter_track, follow=None,\n",
    "                            locations=None, languages=None):\n",
    "    \n",
    "    class CustomStreamListener(tweepy.StreamListener):\n",
    "        \n",
    "        def __init__(self):\n",
    "            super(CustomStreamListener, self).__init__()\n",
    "            \n",
    "        def on_status(self, status):\n",
    "            process(status.text)\n",
    "            \n",
    "        def on_error(self, status_code):\n",
    "            \n",
    "            if status_code == 420:\n",
    "                print('Encountered error code 420. Disconnecting the stream')\n",
    "                # Returning False in on_data disconnects the stream\n",
    "                return False\n",
    "            else:\n",
    "                print('Encountered error with status code, resuming automatically: {}'.format(\n",
    "                    status_code))\n",
    "                return True  # Don't kill the stream\n",
    "            \n",
    "        def on_timeout(self):\n",
    "            print('Timeout...resuming stream')\n",
    "            return True  # Don't kill the stream\n",
    "        \n",
    "    print(\"Starting streaming...\")\n",
    "    \n",
    "    streamingAPI = tweepy.streaming.Stream(auth, CustomStreamListener())\n",
    "    streamingAPI.filter(track=filter_track, follow=follow, locations=locations, languages=languages)"
   ]
  },
  {
   "cell_type": "code",
   "execution_count": 15,
   "metadata": {},
   "outputs": [],
   "source": [
    "# file_name = 'test.csv'\n",
    "# twitter_stream_listener(file_name, keyword_map.keys())"
   ]
  }
 ],
 "metadata": {
  "kernelspec": {
   "display_name": "Python 3",
   "language": "python",
   "name": "python3"
  },
  "language_info": {
   "codemirror_mode": {
    "name": "ipython",
    "version": 3
   },
   "file_extension": ".py",
   "mimetype": "text/x-python",
   "name": "python",
   "nbconvert_exporter": "python",
   "pygments_lexer": "ipython3",
   "version": "3.7.3"
  }
 },
 "nbformat": 4,
 "nbformat_minor": 2
}
